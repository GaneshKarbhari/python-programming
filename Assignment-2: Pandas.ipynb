{
 "cells": [
  {
   "cell_type": "markdown",
   "metadata": {},
   "source": [
    "## Q.1 - Create a dataframe with your name , age , mail id and phone number and add your friends’s information to the same"
   ]
  },
  {
   "cell_type": "code",
   "execution_count": null,
   "metadata": {},
   "outputs": [],
   "source": []
  },
  {
   "attachments": {},
   "cell_type": "markdown",
   "metadata": {},
   "source": [
    "### Q.2 - Download the dataset from this link , \n",
    "Click Here\n",
    "Import the waether data and print the following :\n",
    "a.) First 5 rows of Dataframe \n",
    "b.) First 10 rows of the Dataframe \n",
    "c.) find basic statistics on the particular dataset. \n",
    "d.) Find the last 5 rows of the dataframe \n",
    "e.) Extract the 2nd column and find basic statistics on it."
   ]
  },
  {
   "cell_type": "code",
   "execution_count": null,
   "metadata": {},
   "outputs": [],
   "source": []
  }
 ],
 "metadata": {
  "kernelspec": {
   "display_name": "Python 3",
   "language": "python",
   "name": "python3"
  },
  "language_info": {
   "codemirror_mode": {
    "name": "ipython",
    "version": 3
   },
   "file_extension": ".py",
   "mimetype": "text/x-python",
   "name": "python",
   "nbconvert_exporter": "python",
   "pygments_lexer": "ipython3",
   "version": "3.6.5"
  }
 },
 "nbformat": 4,
 "nbformat_minor": 1
}
